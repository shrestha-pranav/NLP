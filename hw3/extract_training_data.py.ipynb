{
 "cells": [
  {
   "cell_type": "markdown",
   "metadata": {},
   "source": [
    "# Extracting Input/Output matrices for training"
   ]
  },
  {
   "cell_type": "code",
   "execution_count": 1,
   "metadata": {},
   "outputs": [
    {
     "name": "stderr",
     "output_type": "stream",
     "text": [
      "Using TensorFlow backend.\n"
     ]
    }
   ],
   "source": [
    "from conll_reader import DependencyStructure, conll_reader\n",
    "from collections import defaultdict\n",
    "import copy\n",
    "import sys\n",
    "import keras\n",
    "import numpy as np"
   ]
  },
  {
   "cell_type": "code",
   "execution_count": 2,
   "metadata": {},
   "outputs": [],
   "source": [
    "class State(object):\n",
    "    def __init__(self, sentence = []):\n",
    "        self.stack = []\n",
    "        self.buffer = []\n",
    "        if sentence:  self.buffer = list(reversed(sentence))\n",
    "        self.deps = set()\n",
    "\n",
    "    def __repr__(self): return \"{},{},{}\".format(self.stack, self.buffer, self.deps)\n",
    "    def shift(self): self.stack.append(self.buffer.pop())\n",
    "    def left_arc(self, label): self.deps.add((self.buffer[-1], self.stack.pop(),label))\n",
    "\n",
    "    def right_arc(self, label):\n",
    "        parent = self.stack.pop()\n",
    "        self.deps.add( (parent, self.buffer.pop(), label) )\n",
    "        self.buffer.append(parent)\n",
    "\n",
    "def apply_sequence(seq, sentence):\n",
    "    state = State(sentence)\n",
    "    for rel, label in seq:\n",
    "        if rel == \"shift\":       state.shift()\n",
    "        elif rel == \"left_arc\":  state.left_arc(label) \n",
    "        elif rel == \"right_arc\": state.right_arc(label) \n",
    "    return state.deps\n",
    "   \n",
    "class RootDummy(object):\n",
    "    __repr__ = lambda s: \"<ROOT>\"\n",
    "    def __init__(self): self.head, self.id, self.deprel = None, 0, None\n",
    "\n",
    "def get_training_instances(dep_structure):\n",
    "    deprels = dep_structure.deprels\n",
    "    \n",
    "    sorted_nodes = [k for k,v in sorted(deprels.items())]\n",
    "    state = State(sorted_nodes)\n",
    "    state.stack.append(0)\n",
    "\n",
    "    childcount = defaultdict(int)\n",
    "    for ident,node in deprels.items():\n",
    "        childcount[node.head] += 1\n",
    " \n",
    "    seq = []\n",
    "    while state.buffer: \n",
    "        if not state.stack:\n",
    "            seq.append((copy.deepcopy(state),(\"shift\",None)))\n",
    "            state.shift()\n",
    "            continue\n",
    "        if state.stack[-1] == 0:\n",
    "            stackword = RootDummy() \n",
    "        else:\n",
    "            stackword = deprels[state.stack[-1]]\n",
    "        bufferword = deprels[state.buffer[-1]]\n",
    "        if stackword.head == bufferword.id:\n",
    "            childcount[bufferword.id]-=1\n",
    "            seq.append((copy.deepcopy(state),(\"left_arc\",stackword.deprel)))\n",
    "            state.left_arc(stackword.deprel)\n",
    "        elif bufferword.head == stackword.id and childcount[bufferword.id] == 0:\n",
    "            childcount[stackword.id]-=1\n",
    "            seq.append((copy.deepcopy(state),(\"right_arc\",bufferword.deprel)))\n",
    "            state.right_arc(bufferword.deprel)\n",
    "        else: \n",
    "            seq.append((copy.deepcopy(state),(\"shift\",None)))\n",
    "            state.shift()\n",
    "    return seq"
   ]
  },
  {
   "cell_type": "code",
   "execution_count": 3,
   "metadata": {},
   "outputs": [],
   "source": [
    "dep_relations = ['tmod', 'vmod', 'csubjpass', 'rcmod', 'ccomp', 'poss', 'parataxis', 'appos', 'dep', 'iobj', 'pobj', 'mwe', 'quantmod', 'acomp', 'number', 'csubj', 'root', 'auxpass', 'prep', 'mark', 'expl', 'cc', 'npadvmod', 'prt', 'nsubj', 'advmod', 'conj', 'advcl', 'punct', 'aux', 'pcomp', 'discourse', 'nsubjpass', 'predet', 'cop', 'possessive', 'nn', 'xcomp', 'preconj', 'num', 'amod', 'dobj', 'neg','dt','det']\n",
    "\n",
    "class FeatureExtractor(object):  \n",
    "    def __init__(self, word_vocab_file, pos_vocab_file):\n",
    "        self.word_vocab = self.read_vocab(word_vocab_file)        \n",
    "        self.pos_vocab = self.read_vocab(pos_vocab_file)        \n",
    "        self.output_labels = self.make_output_labels()\n",
    "\n",
    "    def make_output_labels(self):\n",
    "        labels = []\n",
    "        labels.append(('shift',None))\n",
    "    \n",
    "        for rel in dep_relations:\n",
    "            labels.append((\"left_arc\",rel))\n",
    "            labels.append((\"right_arc\",rel))\n",
    "        return dict((label, index) for (index,label) in enumerate(labels))\n",
    "\n",
    "    def read_vocab(self,vocab_file):\n",
    "        vocab = {}\n",
    "        for line in vocab_file: \n",
    "            word, index_s = line.strip().split()\n",
    "            index = int(index_s)\n",
    "            vocab[word] = index\n",
    "        return vocab     \n",
    "\n",
    "    def get_input_representation(self, words, pos, state):\n",
    "        #<CD> stands for any number (anything tagged with the POS tag CD)\n",
    "        #<NNP> stands for any proper name (anything tagged with the POS tag NNP)\n",
    "        #<UNK> stands for unknown words (in the training data, any word that appears only once)\n",
    "        #<ROOT> is a special root symbol (the word associated with the word 0, which is initially placed on the stack of the dependency parser)\n",
    "        #<NULL> is used to pad context windows.\n",
    "        \n",
    "        inpt = np.ones(6, dtype=int) * self.word_vocab['<NULL>']\n",
    "        \n",
    "        def getWord(idx):\n",
    "            word = words[idx]\n",
    "            if idx == 0:            word = '<ROOT>'\n",
    "            elif pos[idx] == 'NNP': word = '<NNP>'\n",
    "            elif pos[idx] == 'CD':  word = '<CD>'\n",
    "            return self.word_vocab.get(word, self.word_vocab['<UNK>'])\n",
    "        \n",
    "        for n, idx in enumerate(state.stack[:-4:-1]):\n",
    "            inpt[n] = getWord(idx)\n",
    "        \n",
    "        for n, idx in enumerate(state.buffer[:-4:-1]):\n",
    "            inpt[3+n] = getWord(idx)   \n",
    "        \n",
    "        return inpt\n",
    "\n",
    "    def get_output_representation(self, output_pair):\n",
    "        return keras.utils.to_categorical(self.output_labels[output_pair], num_classes=91, dtype=int)"
   ]
  },
  {
   "cell_type": "code",
   "execution_count": 21,
   "metadata": {},
   "outputs": [
    {
     "data": {
      "text/plain": [
       "'evaluates'"
      ]
     },
     "execution_count": 21,
     "metadata": {},
     "output_type": "execute_result"
    }
   ],
   "source": [
    "{v:k for (k, v) in extractor.word_vocab.items()}[1385]"
   ]
  },
  {
   "cell_type": "code",
   "execution_count": 4,
   "metadata": {},
   "outputs": [],
   "source": [
    "WORD_VOCAB_FILE = 'data/words.vocab'\n",
    "POS_VOCAB_FILE = 'data/pos.vocab'\n",
    "with open(WORD_VOCAB_FILE,'r') as word_vocab_f, open(POS_VOCAB_FILE,'r') as pos_vocab_f:\n",
    "    extractor = FeatureExtractor(word_vocab_f, pos_vocab_f)"
   ]
  },
  {
   "cell_type": "code",
   "execution_count": 5,
   "metadata": {},
   "outputs": [],
   "source": [
    "def get_training_matrices(extractor, in_file):\n",
    "    inputs = []\n",
    "    outputs = []\n",
    "    count = 0 \n",
    "    for dtree in conll_reader(in_file): \n",
    "        words = dtree.words()\n",
    "        pos = dtree.pos()\n",
    "        for state, output_pair in get_training_instances(dtree):\n",
    "            tmp = extractor.get_input_representation(words, pos, state)\n",
    "            inputs.append(tmp)\n",
    "\n",
    "            tmp = extractor.get_output_representation(output_pair)\n",
    "            outputs.append(tmp)\n",
    "        if count%100 == 0:\n",
    "            sys.stdout.write(\".\")\n",
    "            sys.stdout.flush()\n",
    "        count += 1\n",
    "    sys.stdout.write(\"\\n\")\n",
    "    return np.vstack(inputs), np.vstack(outputs)"
   ]
  },
  {
   "cell_type": "code",
   "execution_count": 7,
   "metadata": {},
   "outputs": [
    {
     "name": "stdout",
     "output_type": "stream",
     "text": [
      "Starting feature extraction... (each . represents 100 sentences)\n",
      "...............................................................................................................................................................................................................................................................................................................................................................................................................\n"
     ]
    }
   ],
   "source": [
    "print(\"Starting feature extraction... (each . represents 100 sentences)\")\n",
    "with open(\"data/train.conll\", \"r\") as in_file:\n",
    "    inputs, outputs = get_training_matrices(extractor, in_file)\n",
    "    np.save(\"data/input_train.npy\", inputs)\n",
    "    np.save(\"data/target_train.npy\", outputs)"
   ]
  },
  {
   "cell_type": "code",
   "execution_count": 8,
   "metadata": {},
   "outputs": [
    {
     "name": "stdout",
     "output_type": "stream",
     "text": [
      "Starting feature extraction... (each . represents 100 sentences)\n",
      "...................................................\n"
     ]
    }
   ],
   "source": [
    "print(\"Starting feature extraction... (each . represents 100 sentences)\")\n",
    "with open(\"data/dev.conll\", \"r\") as in_file:\n",
    "    get_training_matrices(extractor, in_file)\n",
    "    np.save(\"data/input_dev.npy\", inputs)\n",
    "    np.save(\"data/target_dev.npy\", outputs)"
   ]
  },
  {
   "cell_type": "code",
   "execution_count": 9,
   "metadata": {},
   "outputs": [
    {
     "data": {
      "text/plain": [
       "array([[    3,     4,     4,     1,     2,     1],\n",
       "       [    1,     3,     4,     2,     1,     2],\n",
       "       [    3,     4,     4,     1,     1,     2],\n",
       "       ...,\n",
       "       [12841,     3,     4,  4968,     4,     4],\n",
       "       [    3,     4,     4, 12841,     4,     4],\n",
       "       [    4,     4,     4,     3,     4,     4]])"
      ]
     },
     "execution_count": 9,
     "metadata": {},
     "output_type": "execute_result"
    }
   ],
   "source": [
    "inputs"
   ]
  }
 ],
 "metadata": {
  "kernelspec": {
   "display_name": "Python 3.6",
   "language": "python",
   "name": "python36"
  },
  "language_info": {
   "codemirror_mode": {
    "name": "ipython",
    "version": 3
   },
   "file_extension": ".py",
   "mimetype": "text/x-python",
   "name": "python",
   "nbconvert_exporter": "python",
   "pygments_lexer": "ipython3",
   "version": "3.6.6"
  },
  "toc": {
   "base_numbering": 1,
   "nav_menu": {},
   "number_sections": true,
   "sideBar": true,
   "skip_h1_title": false,
   "title_cell": "Table of Contents",
   "title_sidebar": "Contents",
   "toc_cell": false,
   "toc_position": {},
   "toc_section_display": true,
   "toc_window_display": true
  }
 },
 "nbformat": 4,
 "nbformat_minor": 2
}
